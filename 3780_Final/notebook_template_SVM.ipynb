{
 "cells": [
  {
   "cell_type": "markdown",
   "metadata": {},
   "source": [
    "<h2>CS 3780/5780 Creative Project: </h2>\n",
    "<h3>Emotion Classification of Natural Language</h3>\n",
    "\n",
    "Names and NetIDs for your group members:"
   ]
  },
  {
   "cell_type": "markdown",
   "metadata": {},
   "source": [
    "<h3>Introduction:</h3>\n",
    "\n",
    "<p> The creative project is about conducting a real-world machine learning project on your own, with everything that is involved. Unlike in the programming projects 1-5, where we gave you all the scaffolding and you just filled in the blanks, you now start from scratch. The past programming projects provide templates for how to do this (and you can reuse part of your code if you wish), and the lectures provide some of the methods you can use. So, this creative project brings realism to how you will use machine learning in the real world.  </p>\n",
    "\n",
    "The task you will work on is classifying texts to human emotions. Through words, humans express feelings, articulate thoughts, and communicate our deepest needs and desires. Language helps us interpret the nuances of joy, sadness, anger, and love, allowing us to connect with others on a deeper level. Are you able to train an ML model that recognizes the human emotions expressed in a piece of text? <b>Please read the project description PDF file carefully and follow the instructions there. Also make sure you write your code and answers to all the questions in this Jupyter Notebook </b> </p>\n",
    "<p>\n"
   ]
  },
  {
   "cell_type": "markdown",
   "metadata": {},
   "source": [
    "<h2>Part 0: Preliminaries</h2><p>"
   ]
  },
  {
   "cell_type": "markdown",
   "metadata": {},
   "source": [
    "<h3>0.1 Import:</h3><p>\n",
    "Please import necessary packages to use. Note that learning and using packages are recommended but not required for this project. Some official tutorial for suggested packacges includes:\n",
    "    \n",
    "https://scikit-learn.org/stable/tutorial/basic/tutorial.html\n",
    "    \n",
    "https://pytorch.org/tutorials/\n",
    "    \n",
    "https://pandas.pydata.org/pandas-docs/stable/user_guide/10min.html\n",
    "<p>"
   ]
  },
  {
   "cell_type": "code",
   "execution_count": 6,
   "metadata": {},
   "outputs": [],
   "source": [
    "import os\n",
    "import pandas as pd\n",
    "import numpy as np\n",
    "import torch\n",
    "# TODO\n",
    "\n",
    "# student-imported libraries are listed below\n",
    "\n",
    "from sklearn.feature_extraction.text import CountVectorizer # for preprocessing\n",
    "import re # imports the regular expression module, which provides support for working w/ text\n",
    "from sklearn.model_selection import train_test_split # allows us to split our bag of words and labels for training\n",
    "\n",
    "# algorithm 1: SVM\n",
    "from sklearn.svm import SVC\n",
    "import random\n",
    "\n",
    "# algorithm 2: MLP\n",
    "# new torch imports\n",
    "import torch\n",
    "import torch.nn as nn\n",
    "import torch.optim as optim\n",
    "import torch.nn.functional as F\n",
    "\n",
    "# new vision-dataset-related torch imports\n",
    "import torchvision\n",
    "import torchvision.datasets as dset\n",
    "import torchvision.transforms as transforms\n",
    "import matplotlib.pyplot as plt\n",
    "\n",
    "import time\n",
    "import math\n",
    "from sklearn.model_selection import GridSearchCV\n",
    "\n",
    "\n"
   ]
  },
  {
   "cell_type": "markdown",
   "metadata": {},
   "source": [
    "<h3>0.2 Accuracy:</h3><p>\n",
    "To measure your performance in the Kaggle Competition, we are using accuracy. As a recap, accuracy is the percent of labels you predict correctly. To measure this, you can use library functions from sklearn. A simple example is shown below. \n",
    "<p>"
   ]
  },
  {
   "cell_type": "code",
   "execution_count": 7,
   "metadata": {},
   "outputs": [
    {
     "data": {
      "text/plain": [
       "0.42857142857142855"
      ]
     },
     "execution_count": 7,
     "metadata": {},
     "output_type": "execute_result"
    }
   ],
   "source": [
    "from sklearn.metrics import accuracy_score, classification_report\n",
    "y_pred = [3, 2, 1, 0, 1, 2, 3]\n",
    "y_true = [0, 1, 2, 3, 1, 2, 3]\n",
    "accuracy_score(y_true, y_pred)"
   ]
  },
  {
   "cell_type": "markdown",
   "metadata": {},
   "source": [
    "<h2>Part 1: Basics</h2><p>\n",
    "Note that your code should be commented well and in part 1.4 you can refer to your comments."
   ]
  },
  {
   "cell_type": "markdown",
   "metadata": {},
   "source": [
    "<h3>1.1 Load and preprocess the dataset:</h3><p>\n",
    "We provide how to load the data on Kaggle's Notebook.\n",
    "<p>"
   ]
  },
  {
   "cell_type": "code",
   "execution_count": 8,
   "metadata": {},
   "outputs": [],
   "source": [
    "#train = pd.read_csv(\"/kaggle/input/cs-3780-5780-how-do-you-feel/train.csv\")\n",
    "#train_text = train[\"text\"]\n",
    "#train_label = train[\"label\"]\n",
    "\n",
    "#test = pd.read_csv(\"/kaggle/input/cs-3780-5780-how-do-you-feel/test.csv\")\n",
    "#test_id = test[\"id\"]\n",
    "#test_text = test[\"text\"]"
   ]
  },
  {
   "cell_type": "code",
   "execution_count": 9,
   "metadata": {},
   "outputs": [],
   "source": [
    "### loading the data for testing on local machine. delete this code segment or comment out when submitting\n",
    "train = pd.read_csv(\"train.csv\")\n",
    "train_text = train[\"text\"]\n",
    "train_label = train[\"label\"]\n",
    "\n",
    "\n",
    "test = pd.read_csv(\"test.csv\")\n",
    "test_id = test[\"id\"]\n",
    "test_text = test[\"text\"]\n"
   ]
  },
  {
   "cell_type": "code",
   "execution_count": 33,
   "metadata": {},
   "outputs": [
    {
     "name": "stdout",
     "output_type": "stream",
     "text": [
      "X_train_tensor shape: torch.Size([8000, 1000])\n",
      "y_train_tensor shape: torch.Size([8000, 1])\n"
     ]
    }
   ],
   "source": [
    "# Make sure you comment your code clearly and you may refer to these comments in the part 1.4\n",
    "# train \n",
    "\n",
    "def preprocess_text(text):\n",
    "    \"\"\"\n",
    "    takes a given string, and normalizes it by doing the following\n",
    "    1. lowercase all text to keep consistency\n",
    "    2. remove any punctuation and numbers\n",
    "    \n",
    "    returns the cleaned text\n",
    "    \"\"\"\n",
    "    text = text.lower()\n",
    "    text = re.sub(r'[^\\w\\s]', '', text)\n",
    "    return text\n",
    "\n",
    "# preprocess the text \n",
    "train_text_cleaned = train_text.apply(preprocess_text)\n",
    "# print(df)\n",
    "\n",
    "# converting the processed text into a bag-of-words vector\n",
    "\n",
    "# Initialize CountVectorizer\n",
    "vectorizer = CountVectorizer(max_features=1000)\n",
    "\n",
    "# Fit and transform the text data\n",
    "X = vectorizer.fit_transform(train_text_cleaned)\n",
    "y = train_label\n",
    "# Train-test split\n",
    "X_train, X_test, y_train, y_test = train_test_split(X, y, test_size=0.2, random_state=42)\n",
    "\n",
    "X_train_tensor = torch.FloatTensor(X_train.toarray())\n",
    "X_test_tensor = torch.FloatTensor(X_test.toarray())\n",
    "\n",
    "X_train_tensor = X_train_tensor.float()\n",
    "X_test_tensor = X_test_tensor.float()\n",
    "\n",
    "# Convert y_train and y_test from Pandas Series to PyTorch tensors\n",
    "y_train_tensor = torch.tensor(y_train.to_numpy(), dtype=torch.float32).to(X_train_tensor.device)\n",
    "y_test_tensor = torch.tensor(y_test.to_numpy(), dtype=torch.float32).to(X_test_tensor.device)\n",
    "\n",
    "# Ensure the shapes are compatible\n",
    "y_train_tensor = y_train_tensor.view(-1, 1)  # Make it (n, 1) for regression\n",
    "y_test_tensor = y_test_tensor.view(-1, 1)\n",
    "\n",
    "\n",
    "print(f\"X_train_tensor shape: {X_train_tensor.shape}\")\n",
    "print(f\"y_train_tensor shape: {y_train_tensor.shape}\")\n",
    "\n",
    "\n",
    "\n",
    "#print(X_train_tensor.shape[1])\n",
    "# TODO"
   ]
  },
  {
   "cell_type": "code",
   "execution_count": 35,
   "metadata": {},
   "outputs": [
    {
     "name": "stdout",
     "output_type": "stream",
     "text": [
      "(15000, 1000)\n"
     ]
    }
   ],
   "source": [
    "### code to preprocess the test data set...\n",
    "test_text_cleaned = test_text.apply(preprocess_text)\n",
    "# print(df)\n",
    "\n",
    "# converting the processed text into a bag-of-words vector\n",
    "\n",
    "# Initialize CountVectorizer\n",
    "#vectorizer = CountVectorizer(max_features=1000)\n",
    "\n",
    "# Fit and transform the text data\n",
    "test_x = vectorizer.transform(test_text_cleaned)\n",
    "print(test_x.shape)\n"
   ]
  },
  {
   "cell_type": "markdown",
   "metadata": {},
   "source": [
    "<h3>1.2 Use At Least Two Training Algorithms from class:</h3><p>\n",
    "You need to use at least two training algorithms from class. You can use your code from previous projects or any packages you imported in part 0.1."
   ]
  },
  {
   "cell_type": "code",
   "execution_count": 12,
   "metadata": {},
   "outputs": [
    {
     "name": "stdout",
     "output_type": "stream",
     "text": [
      "SVM Ready\n"
     ]
    }
   ],
   "source": [
    "# Make sure you comment your code clearly and you may refer to these comments in the part 1.4\n",
    "### SVM\n",
    "svm = SVC(kernel = \"linear\", C = 2)\n",
    "svm.fit(X_train, y_train)\n",
    "    \n",
    "print(\"SVM Ready\")\n",
    "# TODO"
   ]
  },
  {
   "cell_type": "code",
   "execution_count": null,
   "metadata": {},
   "outputs": [],
   "source": [
    "def gen_nonlinear_data(num_samples=10000):\n",
    "    # generate random x samples for training and test sets\n",
    "    xTr = torch.rand(num_samples, 1) * 2 * np.pi\n",
    "    xTe = torch.rand(int(num_samples * 0.1), 1) * 2 * np.pi\n",
    "    \n",
    "    # gaussian noise for non-linear regression\n",
    "    noise = torch.rand(num_samples, 1) * 0.2\n",
    "    test_noise = torch.rand(int(num_samples * 0.1), 1) * 0.2\n",
    "    \n",
    "    # add noise on the labels for the training set\n",
    "    yTr = torch.sin(xTr) + noise\n",
    "    yTe = torch.sin(xTe) + test_noise\n",
    "    \n",
    "    #print(xTr.shape)\n",
    "    #print(\"PING\")\n",
    "    return xTr, xTe, yTr, yTe"
   ]
  },
  {
   "cell_type": "code",
   "execution_count": null,
   "metadata": {
    "scrolled": true
   },
   "outputs": [],
   "source": [
    "### MLP\n",
    "\n",
    "def mse_loss(y_pred, y_true):\n",
    "    square_diff = torch.pow((y_pred-y_true), 2)\n",
    "    mean_error = 0.5 * torch.mean(square_diff)\n",
    "    return mean_error\n",
    "\n",
    "class CustomSGD(optim.Optimizer):\n",
    "    def __init__(self, params, lr=0.01, momentum=0.9):\n",
    "        defaults = dict(lr=lr, momentum=momentum)\n",
    "        super(CustomSGD, self).__init__(params, defaults)\n",
    "        self.velocities = [torch.zeros_like(param.data) for param in self.param_groups[0]['params']]\n",
    "    \n",
    "    def step(self):\n",
    "        \"\"\"Update the parameters with velocity and gradient.\n",
    "        There is nothing needed to return from the function.\n",
    "        Please update the param.data directly.\n",
    "        \"\"\"\n",
    "        for group in self.param_groups:\n",
    "            for param, velocity in zip(group['params'], self.velocities):\n",
    "                if param.grad is None:\n",
    "                    continue\n",
    "                \n",
    "                lr = group['lr'] # learning rate\n",
    "                momentum = group['momentum'] # momentum coefficient\n",
    "                gradient = param.grad.data # gradient\n",
    "                \n",
    "                # update the velocity; [:] enables inplace update\n",
    "                # velocity[:] = None\n",
    "                \n",
    "                # update the parameters\n",
    "                # param.data = None\n",
    "                velocity[:] = momentum * velocity[:] + (1-momentum) * gradient\n",
    "                param.data = param.data - lr * velocity[:]\n",
    "                \n",
    "                \n",
    "class MLPNet(nn.Module):\n",
    "    def __init__(self, input_dim, hidden_dim, output_dim=1):\n",
    "        super(MLPNet, self).__init__()\n",
    "        \"\"\" pytorch optimizer checks for the properties of the model, and if\n",
    "            the torch.nn.Parameter requires gradient, then the model will update\n",
    "            the parameters automatically.\n",
    "        \"\"\"\n",
    "        self.input_dim = input_dim\n",
    "        \n",
    "        # Initialize the fully connected layers\n",
    "        # raise NotImplementedError(\"Your code goes here!\")\n",
    "        self.fc1 = nn.Linear(input_dim, hidden_dim)\n",
    "        self.fc2 = nn.Linear(hidden_dim, output_dim)\n",
    "    def forward(self, x):\n",
    "        # Implement the forward pass, with ReLU non-linearities\n",
    "        # raise NotImplementedError(\"Your code goes here!\")\n",
    "        x = x.view(x.size(0), -1)\n",
    "        x = F.relu(self.fc1(x))\n",
    "        x = self.fc2(x)\n",
    "        return x\n",
    "\n",
    "def train_regression_model(xTr, yTr, model, num_epochs, lr=1e-2, momentum=0.9, print_freq=100, display_loss=True):\n",
    "    \"\"\"Train loop for a neural network model.\n",
    "    \n",
    "    Input:\n",
    "        xTr:     (n, d) matrix of regression input data\n",
    "        yTr:     n-dimensional vector of regression labels\n",
    "        model:   nn.Model to be trained\n",
    "        num_epochs: number of epochs to train the model for\n",
    "        lr:      learning rate for the optimizer\n",
    "        print_freq: frequency to display the loss\n",
    "        display_loss: boolean, if we print the loss\n",
    "    \n",
    "    Output:\n",
    "        model:   nn.Module trained model\n",
    "    \"\"\"\n",
    "    optimizer = CustomSGD(model.parameters(), lr=lr, momentum=momentum)  # create an Adam optimizer for the model parameters\n",
    "    \n",
    "    for epoch in range(num_epochs):\n",
    "        # need to zero the gradients in the optimizer so we don't\n",
    "        # use the gradients from previous iterations\n",
    "        optimizer.zero_grad()  \n",
    "        pred = model(xTr)  # run the forward pass through the model to compute predictions\n",
    "        loss = mse_loss(pred, yTr)\n",
    "        loss.backward()  # compute the gradient wrt loss\n",
    "        optimizer.step()  # performs a step of gradient descent\n",
    "        if display_loss and (epoch + 1) % print_freq == 0:\n",
    "            print('epoch {} loss {}'.format(epoch+1, loss.item()))\n",
    "    \n",
    "    return model  # return trained model\n",
    "\n",
    "\n",
    "hdims = 69\n",
    "num_epochs = 5000\n",
    "lr = 1e-1\n",
    "momentum = 0.9\n",
    "\n",
    "start_time = time.time()\n",
    "\n",
    "\n",
    "#X_train, X_test, y_train, y_test = gen_nonlinear_data(num_samples=500)\n",
    "\n",
    "size = X_train_tensor.shape[1]\n",
    "#mlp_model = MLPNet(input_dim=size, hidden_dim=hdims, output_dim=1)\n",
    "#mlp_model = train_regression_model(X_train_tensor, y_train_tensor, mlp_model, num_epochs=num_epochs, lr=lr, momentum=momentum)\n",
    "#mlp_model = train_regression_model(X_train, y_train, mlp_model, num_epochs=num_epochs, lr=lr, momentum=momentum)\n",
    "\n",
    "\n",
    "#fig, (ax1, ax2) = plt.subplots(1, 2, figsize=(8,3))\n",
    "\n",
    "#X_train_tensor_1D = X_train_tensor[:, 0]  # Use the first feature\n",
    "#X_test_tensor_1D = X_test_tensor[:, 0]\n",
    "\n",
    "# Plot the visualizations from our MLP Model\n",
    "#ax1.scatter(X_train_tensor, y_train_tensor, label=\"Train Points\")\n",
    "#ax1.scatter(X_test_tensor, y_test_tensor, label=\"Test Points\")\n",
    "#ax1.scatter(X_train_tensor, mlp_model(X_train_tensor).detach(), color=\"red\", marker='o', label=\"Prediction\")\n",
    "\n",
    "#ax1.scatter(X_train, y_train, label=\"Train Points\")\n",
    "#ax1.scatter(X_test, y_test, label=\"Test Points\")\n",
    "#ax1.scatter(X_train, mlp_model(X_train).detach(), color=\"red\", marker='o', label=\"Prediction\")\n",
    "\n",
    "#ax1.scatter(X_train_tensor_1D.cpu().numpy(), y_train_tensor.squeeze().cpu().numpy(), label=\"Train Points\")\n",
    "#ax1.scatter(X_test_tensor_1D.cpu().numpy(), y_test_tensor.squeeze().cpu().numpy(), label=\"Test Points\")\n",
    "#ax1.scatter(X_train_tensor_1D.cpu().numpy(), mlp_model(X_train_tensor).detach().squeeze().cpu().numpy(), color=\"red\", marker='o', label=\"Prediction\")\n",
    "\n",
    "#ax1.legend()\n",
    "#ax1.set_title('MLP Net')\n",
    "\n",
    "#end_time = time.time()\n",
    "#elapsed_time = end_time - start_time\n",
    "\n",
    "#print(f\"Program started at: {time.ctime(start_time)}\")\n",
    "#print(f\"Program ended at: {time.ctime(end_time)}\")\n",
    "#print(f\"Total elapsed time: {elapsed_time:.5f} seconds\")\n",
    "    \n",
    "\n"
   ]
  },
  {
   "cell_type": "markdown",
   "metadata": {},
   "source": [
    "<h3>1.3 Training, Validation and Model Selection:</h3><p>\n",
    "You need to split your data to a training set and validation set or performing a cross-validation for model selection."
   ]
  },
  {
   "cell_type": "code",
   "execution_count": 38,
   "metadata": {},
   "outputs": [
    {
     "name": "stdout",
     "output_type": "stream",
     "text": [
      "Done\n",
      "\n",
      "21    0.342400\n",
      "1     0.244200\n",
      "12    0.214600\n",
      "9     0.058933\n",
      "4     0.045333\n",
      "27    0.035733\n",
      "16    0.010400\n",
      "25    0.010133\n",
      "22    0.008200\n",
      "17    0.008133\n",
      "10    0.007067\n",
      "18    0.005533\n",
      "8     0.002733\n",
      "20    0.001467\n",
      "23    0.001133\n",
      "11    0.000800\n",
      "24    0.000733\n",
      "3     0.000533\n",
      "15    0.000400\n",
      "6     0.000400\n",
      "2     0.000400\n",
      "14    0.000267\n",
      "19    0.000200\n",
      "5     0.000133\n",
      "13    0.000067\n",
      "7     0.000067\n",
      "Name: proportion, dtype: float64\n"
     ]
    }
   ],
   "source": [
    "# Make sure you comment your code clearly and you may refer to these comments in the part 1.4\n",
    "### SVM\n",
    "\n",
    "\n",
    "svm = SVC(kernel = \"rbf\", C = 5)\n",
    "svm.fit(X_train, y_train)\n",
    "y_preds = svm.predict(test_x)\n",
    "#y_preds = svm.predict(X_test)\n",
    "#print(\"SVM Accuracy: \", accuracy_score(y_test, y_preds))\n",
    "#print(\"Classification Report:\\n\", classification_report(y_test, y_pred))\n",
    "# print(y_preds)\n",
    "print(\"Done\")\n",
    "print()\n",
    "value_frequency = pd.value_counts(y_preds, sort=True, normalize = True)\n",
    "print(value_frequency)\n",
    "\n",
    "# TODO"
   ]
  },
  {
   "cell_type": "markdown",
   "metadata": {},
   "source": [
    "<h3>1.4 Explanation in Words:</h3><p>\n",
    "    You need to answer the following questions in the markdown cell after this cell:"
   ]
  },
  {
   "cell_type": "markdown",
   "metadata": {},
   "source": [
    "1.4.1 How did you formulate the learning problem?\n",
    "\n",
    "1.4.2 Which two learning methods from class did you choose and why did you made the choices?\n",
    "\n",
    "1.4.3 How did you do the model selection?\n",
    "\n",
    "1.4.4 Does the test performance reach the first baseline \"Tiny Piney\"? (Please include a screenshot of Kaggle Submission)"
   ]
  },
  {
   "cell_type": "markdown",
   "metadata": {},
   "source": [
    "<h2>Part 2: Be creative!</h2><p>"
   ]
  },
  {
   "cell_type": "markdown",
   "metadata": {},
   "source": [
    "<h3>2.1 Open-ended Code:</h3><p>\n",
    "You may follow the steps in part 1 again but making innovative changes like using new training algorithms, etc. Make sure you explain everything clearly in part 2.2. Note that beating \"Zero Hero\" is only a portion of this part. Any creative ideas will receive most points as long as they are reasonable and clearly explained."
   ]
  },
  {
   "cell_type": "code",
   "execution_count": null,
   "metadata": {},
   "outputs": [],
   "source": [
    "# Make sure you comment your code clearly and you may refer to these comments in the part 2.2\n",
    "# TODO"
   ]
  },
  {
   "cell_type": "markdown",
   "metadata": {},
   "source": [
    "<h3>2.2 Explanation in Words:</h3><p>\n",
    "You need to answer the following questions in a markdown cell after this cell:"
   ]
  },
  {
   "cell_type": "markdown",
   "metadata": {},
   "source": [
    "2.2.1 How much did you manage to improve performance on the test set? Did you beat \"Zero Hero\" in Kaggle? (Please include a screenshot of Kaggle Submission)\n",
    "\n",
    "2.2.2 Please explain in detail how you achieved this and what you did specifically and why you tried this."
   ]
  },
  {
   "cell_type": "markdown",
   "metadata": {},
   "source": [
    "<h2>Part 3: Kaggle Submission</h2><p>\n",
    "You need to generate a prediction CSV using the following cell from your trained model and submit the direct output of your code to Kaggle. The results should be presented in two columns in csv format: the first column is the data id (0-14999) and the second column includes the predictions for the test set. The first column must be named id and the second column must be named label (otherwise your submission will fail). A sample predication file can be downloaded from Kaggle for each problem. \n",
    "We provide how to save a csv file if you are running Notebook on Kaggle."
   ]
  },
  {
   "cell_type": "code",
   "execution_count": null,
   "metadata": {},
   "outputs": [],
   "source": [
    "id = range(15000)\n",
    "prediction = range(15000)\n",
    "submission = pd.DataFrame({'id': id, 'label': prediction})\n",
    "submission.to_csv('/kaggle/working/submission.csv', index=False)"
   ]
  },
  {
   "cell_type": "code",
   "execution_count": 39,
   "metadata": {},
   "outputs": [],
   "source": [
    "# TODO\n",
    "\n",
    "# You may use pandas to generate a dataframe with country, date and your predictions first \n",
    "# and then use to_csv to generate a CSV file.\n",
    "\n",
    "\n",
    "id = test_id\n",
    "prediction = y_preds\n",
    "submission = pd.DataFrame({'id': id, 'label': prediction})\n",
    "submission.to_csv('submission.csv', index=False)"
   ]
  },
  {
   "cell_type": "code",
   "execution_count": null,
   "metadata": {},
   "outputs": [],
   "source": []
  },
  {
   "cell_type": "markdown",
   "metadata": {},
   "source": [
    "<h2>Part 4: Resources and Literature Used</h2><p>"
   ]
  },
  {
   "cell_type": "markdown",
   "metadata": {},
   "source": [
    "Please cite the papers and open resources you used."
   ]
  },
  {
   "cell_type": "markdown",
   "metadata": {},
   "source": []
  }
 ],
 "metadata": {
  "kernelspec": {
   "display_name": "Python 3 (ipykernel)",
   "language": "python",
   "name": "python3"
  },
  "language_info": {
   "codemirror_mode": {
    "name": "ipython",
    "version": 3
   },
   "file_extension": ".py",
   "mimetype": "text/x-python",
   "name": "python",
   "nbconvert_exporter": "python",
   "pygments_lexer": "ipython3",
   "version": "3.11.5"
  }
 },
 "nbformat": 4,
 "nbformat_minor": 4
}
